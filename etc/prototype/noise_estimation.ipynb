{
 "cells": [
  {
   "cell_type": "markdown",
   "metadata": {},
   "source": [
    "# General Imports\n",
    "\n",
    "This notebook uses toast, tolteca, and toltectoast."
   ]
  },
  {
   "cell_type": "code",
   "execution_count": null,
   "metadata": {},
   "outputs": [],
   "source": [
    "import os\n",
    "\n",
    "os.environ[\"TOAST_LOGLEVEL\"] = \"VERBOSE\"\n",
    "\n",
    "import numpy as np\n",
    "import netCDF4 as nc\n",
    "import wurlitzer\n",
    "from astropy import units as u\n",
    "import astropy.io.fits as af\n",
    "from astropy.wcs import WCS\n",
    "import matplotlib.pyplot as plt\n",
    "\n",
    "import toast\n",
    "import toast.ops\n",
    "import toast.widgets\n",
    "from toast.pixels_io_wcs import write_wcs_fits\n",
    "\n",
    "import tolteca\n",
    "from tolteca.datamodels import io as tio\n",
    "\n",
    "import toltectoast as tt\n",
    "from toltectoast import ops as ttops\n",
    "from toltectoast import io as ttio\n",
    "from toltectoast.vis import plot_noise_estim"
   ]
  },
  {
   "cell_type": "code",
   "execution_count": null,
   "metadata": {},
   "outputs": [],
   "source": [
    "# Get our MPI world rank to use later when only one process needs to do\n",
    "# plotting, etc.\n",
    "comm, procs, rank = toast.get_world()"
   ]
  },
  {
   "cell_type": "code",
   "execution_count": null,
   "metadata": {},
   "outputs": [],
   "source": [
    "# Output directory.  We are making some PDF plots, etc, and will save\n",
    "# those to a directory relative to this notebook.\n",
    "out_dir = \"noise_estimation_outputs\"\n",
    "if rank == 0:\n",
    "    if not os.path.isdir(out_dir):\n",
    "        os.mkdir(out_dir)"
   ]
  },
  {
   "cell_type": "code",
   "execution_count": null,
   "metadata": {},
   "outputs": [],
   "source": [
    "# Input data\n",
    "\n",
    "# test2 sim\n",
    "# raw_dir = \"/home/kisner/data/toltec/simraw/test2/test2_simu\"\n",
    "# red_dir = \"/home/kisner/data/toltec/simraw/test2/test2_redu/redu00/000001\"\n",
    "# apt_file = os.path.join(raw_dir, \"apt_000001_000_0000_2022_04_08_16_08_56.ecsv\")\n",
    "# tele_file = os.path.join(raw_dir, \"tel_000001_000_0000_2022_04_08_16_08_56.nc\")\n",
    "# proc_file = os.path.join(red_dir, \"toltec_simu_science_timestream_000001.nc\")\n",
    "\n",
    "# test3 sim\n",
    "raw_dir = \"/home/kisner/data/toltec/simraw/test3/test3_simu\"\n",
    "red_dir = \"/home/kisner/data/toltec/simraw/test3/test3_redu/redu00/000001\"\n",
    "apt_file = os.path.join(raw_dir, \"apt_000001_000_0000_2022_04_08_16_43_59.ecsv\")\n",
    "tele_file = os.path.join(raw_dir, \"tel_000001_000_0000_2022_04_08_16_43_59.nc\")\n",
    "proc_file = os.path.join(red_dir, \"toltec_simu_science_timestream_000001.nc\")"
   ]
  },
  {
   "cell_type": "markdown",
   "metadata": {},
   "source": [
    "# Load Data\n",
    "\n",
    "**NOTE:** You can change the `thinfp` setting to be something large (say 64) which will reduce the number of detectors to `1/thinfp`.  This is useful for debugging, but any conclusions should be checked with the full set of detectors."
   ]
  },
  {
   "cell_type": "code",
   "execution_count": null,
   "metadata": {},
   "outputs": [],
   "source": [
    "data = toast.Data()"
   ]
  },
  {
   "cell_type": "code",
   "execution_count": null,
   "metadata": {},
   "outputs": [],
   "source": [
    "loader = ttops.Load(\n",
    "    files=[(apt_file, tele_file, proc_file, None)],\n",
    "    array=\"a1100\",\n",
    "    det_pointing=\"quats\",\n",
    "    thinfp=16,\n",
    "    check_nans=False,\n",
    ")"
   ]
  },
  {
   "cell_type": "code",
   "execution_count": null,
   "metadata": {
    "scrolled": true
   },
   "outputs": [],
   "source": [
    "loader.apply(data)\n",
    "data.info()"
   ]
  },
  {
   "cell_type": "markdown",
   "metadata": {},
   "source": [
    "# Noise Estimation"
   ]
  },
  {
   "cell_type": "code",
   "execution_count": null,
   "metadata": {},
   "outputs": [],
   "source": [
    "estim = toast.ops.NoiseEstim(\n",
    "    det_data=\"signal\",\n",
    "    out_model=\"noise_est\",\n",
    "    det_flag_mask=0,\n",
    "    lagmax=1000,\n",
    "    nbin_psd=64,\n",
    "    nsum=1,\n",
    "    naverage=60,\n",
    ")\n",
    "estim.apply(data)"
   ]
  },
  {
   "cell_type": "code",
   "execution_count": null,
   "metadata": {},
   "outputs": [],
   "source": [
    "# Compute a 1/f fit to the noise estimates\n",
    "noise_fit = toast.ops.FitNoiseModel(\n",
    "    noise_model=estim.out_model,\n",
    "    out_model=\"fit_noise\",\n",
    ")\n",
    "noise_fit.apply(data)"
   ]
  },
  {
   "cell_type": "code",
   "execution_count": null,
   "metadata": {},
   "outputs": [],
   "source": [
    "# Cut outliers\n",
    "noise_cut = toast.ops.FlagNoiseFit(\n",
    "    noise_model=noise_fit.out_model,\n",
    ")\n",
    "noise_cut.apply(data)"
   ]
  },
  {
   "cell_type": "code",
   "execution_count": null,
   "metadata": {},
   "outputs": [],
   "source": [
    "ob = data.obs[0]\n",
    "model_est = ob[estim.out_model]\n",
    "model_fit = ob[noise_fit.out_model]\n",
    "\n",
    "for det in ob.local_detectors:\n",
    "    plot_noise_estim(\n",
    "        os.path.join(out_dir, f\"noise_estim_{det}.png\"),  \n",
    "        model_est.freq(det), \n",
    "        model_est.psd(det), \n",
    "        fit_freq=model_fit.freq(det),\n",
    "        fit_psd=model_fit.psd(det),\n",
    "        semilog=False,\n",
    "    )"
   ]
  },
  {
   "cell_type": "code",
   "execution_count": null,
   "metadata": {},
   "outputs": [],
   "source": []
  }
 ],
 "metadata": {
  "kernelspec": {
   "display_name": "Python 3 (ipykernel)",
   "language": "python",
   "name": "python3"
  },
  "language_info": {
   "codemirror_mode": {
    "name": "ipython",
    "version": 3
   },
   "file_extension": ".py",
   "mimetype": "text/x-python",
   "name": "python",
   "nbconvert_exporter": "python",
   "pygments_lexer": "ipython3",
   "version": "3.10.12"
  }
 },
 "nbformat": 4,
 "nbformat_minor": 4
}
