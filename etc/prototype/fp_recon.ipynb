{
 "cells": [
  {
   "cell_type": "markdown",
   "metadata": {},
   "source": [
    "# Focalplane Reconstruction\n",
    "\n",
    "This notebook works on exploring algorithms for focalplane reconstruction."
   ]
  },
  {
   "cell_type": "code",
   "execution_count": null,
   "metadata": {},
   "outputs": [],
   "source": [
    "import os\n",
    "\n",
    "import numpy as np\n",
    "import matplotlib.pyplot as plt\n",
    "from astropy.table import Table\n",
    "from astropy import units as u\n",
    "from scipy import signal\n",
    "from scipy.ndimage import gaussian_filter\n",
    "\n",
    "import toast\n",
    "import toast.ops\n",
    "from toast.observation import default_values as defaults\n",
    "from toast.tests._helpers import create_ground_data\n"
   ]
  },
  {
   "cell_type": "markdown",
   "metadata": {},
   "source": [
    "## Fake Dataset\n",
    "\n",
    "Create a fake focalplane and observation."
   ]
  },
  {
   "cell_type": "code",
   "execution_count": null,
   "metadata": {},
   "outputs": [],
   "source": [
    "data = create_ground_data(\n",
    "    None,\n",
    "    sample_rate=100.0 * u.Hz,\n",
    "    el_nod=False,\n",
    "    pixel_per_process=7,\n",
    "    fknee=1.0 * u.Hz,\n",
    ")\n",
    "obzero = data.obs[0]"
   ]
  },
  {
   "cell_type": "code",
   "execution_count": null,
   "metadata": {},
   "outputs": [],
   "source": [
    "# Pointing operators\n",
    "sim_detpoint_azel = toast.ops.PointingDetectorSimple(\n",
    "    boresight=defaults.boresight_azel, quats=\"quats_azel\"\n",
    ")\n",
    "sim_detpoint_radec = toast.ops.PointingDetectorSimple(\n",
    "    boresight=defaults.boresight_radec, quats=\"quats_radec\"\n",
    ")\n",
    "sim_weights_azel = toast.ops.StokesWeights(\n",
    "    mode=\"I\",\n",
    "    detector_pointing=sim_detpoint_azel,\n",
    ")\n",
    "sim_weights_radec = toast.ops.StokesWeights(\n",
    "    mode=\"I\",\n",
    "    detector_pointing=sim_detpoint_radec,\n",
    ")\n",
    "sim_pixels = toast.ops.PixelsWCS(\n",
    "    projection=\"TAN\",\n",
    "    detector_pointing=sim_detpoint_radec,\n",
    "    auto_bounds=True,\n",
    "    resolution=(0.1 * u.degree, 0.1 * u.degree),\n",
    "    pixels=\"sim_pixels\",\n",
    "    submaps=1,\n",
    ")\n",
    "\n",
    "sim_detpoint_azel.apply(data)\n",
    "sim_detpoint_radec.apply(data)\n",
    "sim_weights_azel.apply(data)\n",
    "sim_weights_radec.apply(data)\n",
    "sim_pixels.apply(data)"
   ]
  },
  {
   "cell_type": "code",
   "execution_count": null,
   "metadata": {},
   "outputs": [],
   "source": [
    "# Pixel Distribution and Hits\n",
    "sim_dist = toast.ops.BuildPixelDistribution(\n",
    "    pixel_dist=\"dist_sim\",\n",
    "    pixel_pointing=sim_pixels,\n",
    ")\n",
    "sim_dist.apply(data)\n",
    "\n",
    "sim_hits = toast.ops.BuildHitMap(\n",
    "    hits=\"sim_hits\",\n",
    "    pixel_dist=sim_dist.pixel_dist,\n",
    "    pixels=sim_pixels.pixels,\n",
    ")\n",
    "sim_hits.apply(data)"
   ]
  },
  {
   "cell_type": "code",
   "execution_count": null,
   "metadata": {},
   "outputs": [],
   "source": [
    "print(data[sim_dist.pixel_dist])\n",
    "print(data[sim_hits.hits])\n",
    "print(sim_pixels.wcs)\n",
    "\n",
    "print(data[sim_hits.hits].data[0, :, 0])\n",
    "\n",
    "fig = plt.figure(figsize=[12, 8])\n",
    "ax = fig.add_subplot(1, 1, 1)\n",
    "ax.imshow(data[sim_hits.hits].data[0, :, 0].reshape(sim_pixels.wcs_shape))\n",
    "plt.show()\n"
   ]
  },
  {
   "cell_type": "code",
   "execution_count": null,
   "metadata": {},
   "outputs": [],
   "source": [
    "# Make a fake sky with a spike\n",
    "\n",
    "center_indx = (\n",
    "    sim_pixels.wcs_shape[0] // 2,\n",
    "    sim_pixels.wcs_shape[1] // 2,\n",
    ")\n",
    "\n",
    "fake_sky = np.zeros(sim_pixels.wcs_shape, dtype=np.float64)\n",
    "fake_sky[center_indx] = 10000.0\n",
    "\n",
    "fake_sky = gaussian_filter(fake_sky, 3.0)\n",
    "\n",
    "fig = plt.figure(figsize=[12, 8])\n",
    "ax = fig.add_subplot(1, 1, 1)\n",
    "ax.imshow(fake_sky)\n",
    "plt.show()\n",
    "\n",
    "data[\"fake_sky\"] = toast.pixels.PixelData(\n",
    "    data[sim_dist.pixel_dist],\n",
    "    np.float64,\n",
    "    n_value=1,\n",
    "    units=u.K,\n",
    ")\n",
    "data[\"fake_sky\"].data[0, :, 0] = fake_sky.flatten()"
   ]
  },
  {
   "cell_type": "code",
   "execution_count": null,
   "metadata": {},
   "outputs": [],
   "source": [
    "toast.ops.Reset(detdata=[\"signal\"]).apply(data)"
   ]
  },
  {
   "cell_type": "code",
   "execution_count": null,
   "metadata": {},
   "outputs": [],
   "source": [
    "# Default noise model\n",
    "toast.ops.DefaultNoiseModel().apply(data)"
   ]
  },
  {
   "cell_type": "code",
   "execution_count": null,
   "metadata": {},
   "outputs": [],
   "source": [
    "# Scan from fake sky\n",
    "toast.ops.ScanMap(\n",
    "    pixels=sim_pixels.pixels,\n",
    "    weights=sim_weights_radec.weights,\n",
    "    map_key=\"fake_sky\",\n",
    ").apply(data)\n"
   ]
  },
  {
   "cell_type": "code",
   "execution_count": null,
   "metadata": {},
   "outputs": [],
   "source": [
    "# Add atmosphere sim\n",
    "sim_atm = toast.ops.SimAtmosphere(\n",
    "    detector_pointing=sim_detpoint_azel,\n",
    "    detector_weights=sim_weights_azel,\n",
    ").apply(data)"
   ]
  },
  {
   "cell_type": "code",
   "execution_count": null,
   "metadata": {},
   "outputs": [],
   "source": [
    "# Timeconstant convolution\n",
    "#toast.ops.TimeConstant(tau=1.0 * u.second).apply(data)"
   ]
  },
  {
   "cell_type": "code",
   "execution_count": null,
   "metadata": {},
   "outputs": [],
   "source": [
    "# Add simulated noise\n",
    "toast.ops.SimNoise().apply(data)"
   ]
  },
  {
   "cell_type": "code",
   "execution_count": null,
   "metadata": {},
   "outputs": [],
   "source": [
    "for det in obzero.local_detectors:\n",
    "    fig = plt.figure(figsize=[12, 8])\n",
    "    ax = fig.add_subplot(1, 1, 1)\n",
    "    ax.plot(\n",
    "        obzero.shared[\"times\"].data,\n",
    "        obzero.detdata[\"signal\"][det],\n",
    "        color=\"black\",\n",
    "        label=\"Detector Data\",\n",
    "    )\n",
    "    ax.set_xlabel(\"Time\")\n",
    "    ax.set_ylabel(\"K\")\n",
    "    ax.legend(loc=\"best\")\n",
    "    plt.show()"
   ]
  },
  {
   "cell_type": "markdown",
   "metadata": {},
   "source": [
    "## Filters\n",
    "\n"
   ]
  },
  {
   "cell_type": "code",
   "execution_count": null,
   "metadata": {},
   "outputs": [],
   "source": [
    "toast.ops.CommonModeFilter(det_flag_mask=0).apply(data)"
   ]
  },
  {
   "cell_type": "code",
   "execution_count": null,
   "metadata": {},
   "outputs": [],
   "source": [
    "filt_sos = signal.butter(\n",
    "    3, \n",
    "    [0.01, 5.0], \n",
    "    btype=\"bandpass\",\n",
    "    output=\"sos\", \n",
    "    fs=obzero.telescope.focalplane.sample_rate.to_value(u.Hz)\n",
    ")"
   ]
  },
  {
   "cell_type": "code",
   "execution_count": null,
   "metadata": {},
   "outputs": [],
   "source": [
    "filt_tod = signal.sosfilt(filt_sos, obzero.detdata[\"signal\"][0])"
   ]
  },
  {
   "cell_type": "code",
   "execution_count": null,
   "metadata": {},
   "outputs": [],
   "source": [
    "slc = slice(-2000, -1, 1)\n",
    "#slc = slice(None)\n",
    "for det in obzero.local_detectors:\n",
    "    fig = plt.figure(figsize=[12, 8])\n",
    "    ax = fig.add_subplot(1, 1, 1)\n",
    "    ax.plot(\n",
    "        obzero.shared[\"times\"].data[slc],\n",
    "        obzero.detdata[\"signal\"][det, slc],\n",
    "        color=\"black\",\n",
    "        label=\"Detector Data\",\n",
    "    )\n",
    "    ax.plot(\n",
    "        obzero.shared[\"times\"].data[slc],\n",
    "        filt_tod[slc],\n",
    "        color=\"red\",\n",
    "        label=\"Filtered Detector Data\",\n",
    "    )\n",
    "\n",
    "    ax.set_xlabel(\"Time\")\n",
    "    ax.set_ylabel(\"K\")\n",
    "    ax.legend(loc=\"best\")\n",
    "\n",
    "    #ax.set_xlim(200, 300)\n",
    "    plt.show()"
   ]
  },
  {
   "cell_type": "code",
   "execution_count": null,
   "metadata": {},
   "outputs": [],
   "source": []
  },
  {
   "cell_type": "code",
   "execution_count": null,
   "metadata": {},
   "outputs": [],
   "source": []
  },
  {
   "cell_type": "code",
   "execution_count": null,
   "metadata": {},
   "outputs": [],
   "source": []
  },
  {
   "cell_type": "code",
   "execution_count": null,
   "metadata": {},
   "outputs": [],
   "source": []
  }
 ],
 "metadata": {
  "kernelspec": {
   "display_name": "Python 3 (ipykernel)",
   "language": "python",
   "name": "python3"
  },
  "language_info": {
   "codemirror_mode": {
    "name": "ipython",
    "version": 3
   },
   "file_extension": ".py",
   "mimetype": "text/x-python",
   "name": "python",
   "nbconvert_exporter": "python",
   "pygments_lexer": "ipython3",
   "version": "3.10.12"
  }
 },
 "nbformat": 4,
 "nbformat_minor": 4
}
